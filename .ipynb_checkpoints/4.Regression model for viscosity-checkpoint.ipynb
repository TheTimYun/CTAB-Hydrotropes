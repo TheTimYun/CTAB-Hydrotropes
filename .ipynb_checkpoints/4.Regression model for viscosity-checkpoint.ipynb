{
 "cells": [
  {
   "cell_type": "markdown",
   "id": "73b9ce47-1548-4505-9f47-1b975463318f",
   "metadata": {},
   "source": [
    "**Overview**  \n",
    "This notebook describes the process of regression model (XGBRegressor) optimization with hyperopt package and checking for $R^2$ and RMSE values"
   ]
  },
  {
   "cell_type": "markdown",
   "id": "34e53fa2-6146-474a-bef3-823487e771a8",
   "metadata": {},
   "source": [
    "import numpy as np\n",
    "import pandas as pd\n",
    "from rdkit import RDConfig\n",
    "import pickle\n",
    "import matplotlib.pyplot as plt\n",
    "import seaborn as sns\n",
    "from xgboost import XGBClassifier, XGBRegressor\n",
    "from rdkit import Chem\n",
    "import datamol as dm\n",
    "from rdkit.Chem import AllChem\n",
    "\n",
    "from functools import partial\n",
    "from sklearn.preprocessing import MinMaxScaler\n",
    "from sklearn.model_selection import GridSearchCV, train_test_split, cross_val_score\n",
    "from sklearn.linear_model import LogisticRegression\n",
    "from sklearn.pipeline import make_pipeline\n",
    "from sklearn.metrics import root_mean_squared_error, r2_score\n",
    "from hyperopt import tpe, Trials, hp, STATUS_OK, fmin"
   ]
  },
  {
   "cell_type": "code",
   "execution_count": 3,
   "id": "988d71eb-1651-4fd3-91f2-ae254080bc25",
   "metadata": {},
   "outputs": [],
   "source": [
    "with open('viscosity.pickle', 'rb') as inp:\n",
    "    target = pickle.load(inp)"
   ]
  },
  {
   "cell_type": "code",
   "execution_count": 5,
   "id": "5f397c0d-1a4a-460f-8f3d-fac298105a4a",
   "metadata": {},
   "outputs": [],
   "source": [
    "with open('X_standard_dropped.pickle', 'rb') as inp:\n",
    "    X = pickle.load(inp)"
   ]
  },
  {
   "cell_type": "markdown",
   "id": "e43f415d-8325-42ee-a41d-409b44551495",
   "metadata": {},
   "source": [
    "Viscosity values are given in cP, so now let's convert them into Pa*s and make a logarithm of them to reduce the range of values"
   ]
  },
  {
   "cell_type": "code",
   "execution_count": 11,
   "id": "0378360e-cb84-44c2-8af5-7ae671be3b02",
   "metadata": {},
   "outputs": [],
   "source": [
    "target = target / 1000\n",
    "target = np.log(target)"
   ]
  },
  {
   "cell_type": "markdown",
   "id": "01992772-6083-4d53-a73f-94e2853b7564",
   "metadata": {},
   "source": [
    "Here we just repeat the process of optimization with hyperopt package: get objective function and function for best model retrieval, and minimize the objective function with fmin function from hyperopt"
   ]
  },
  {
   "cell_type": "code",
   "execution_count": 19,
   "id": "4fcc2cb4-f60c-4d38-bfd2-b178d9ca8c03",
   "metadata": {},
   "outputs": [],
   "source": [
    "def objective(params, pipe, X, target):\n",
    "    score = cross_val_score(pipe, X, target, scoring = 'neg_root_mean_squared_error')\n",
    "    return {'loss':-score.mean(), 'status':STATUS_OK, 'Trained_model':pipe}\n",
    "    "
   ]
  },
  {
   "cell_type": "code",
   "execution_count": 13,
   "id": "321d8fdb-2f22-4e76-8230-7889bf7bb3c4",
   "metadata": {},
   "outputs": [],
   "source": [
    "trials = Trials()"
   ]
  },
  {
   "cell_type": "code",
   "execution_count": 14,
   "id": "02676f0d-0f50-44e7-b9c7-6274625c6216",
   "metadata": {},
   "outputs": [],
   "source": [
    "space = {'xgbregressorr__n_estimators':hp.randint('n_estimators', 1, 30),\n",
    "         'xgbregressor__learning_rate': hp.loguniform('learning_rate', low = -4*np.log(10), high  = 2*np.log(10)),\n",
    "         'xgbcregressor__reg_alpha':hp.loguniform(label = 'reg_alpha', low = -4*np.log(10), high  = 2*np.log(10)),\n",
    "         'xgbregressor__grow_policy':hp.choice('grow_policy', ['depthwise', 'logwise']),\n",
    "        'xgbregressor__max_depth':hp.randint('max_depth', 1, 100)}\n",
    "         "
   ]
  },
  {
   "cell_type": "code",
   "execution_count": 24,
   "id": "25f476e9-ea36-43de-b259-76589ac2d8b5",
   "metadata": {},
   "outputs": [],
   "source": [
    "def get_best_model_from_trials(trials):\n",
    "    valid_trial_list = [trial for trial in trials if trial['result']['status'] == STATUS_OK]\n",
    "    losses = [ float(trial['result']['loss']) for trial in valid_trial_list]\n",
    "    index_having_minumum_loss = np.argmin(losses)\n",
    "    best_trial_obj = valid_trial_list[index_having_minumum_loss]\n",
    "    return best_trial_obj['result']['Trained_model']"
   ]
  },
  {
   "cell_type": "code",
   "execution_count": 20,
   "id": "1d05b28c-d4ae-41b1-8d7b-82e4fded962e",
   "metadata": {},
   "outputs": [
    {
     "name": "stdout",
     "output_type": "stream",
     "text": [
      "100%|██████████| 50/50 [04:06<00:00,  4.93s/trial, best loss: 3.8581691949666075]\n"
     ]
    }
   ],
   "source": [
    "pipeline = make_pipeline(MinMaxScaler(), XGBRegressor())\n",
    "best = fmin(partial(objective, pipe = pipeline, X = X, target = target), max_evals=50, algo = tpe.suggest, trials = trials, space=space)"
   ]
  },
  {
   "cell_type": "markdown",
   "id": "f3ece91a-dd6f-4b98-bf10-d672f232baf2",
   "metadata": {},
   "source": [
    "Here are the optimal parameters"
   ]
  },
  {
   "cell_type": "code",
   "execution_count": 23,
   "id": "1cc4f6fd-e480-4b2e-9f3c-8680915e2607",
   "metadata": {},
   "outputs": [
    {
     "name": "stdout",
     "output_type": "stream",
     "text": [
      "{'grow_policy': 0, 'learning_rate': 1.1849939625930745, 'max_depth': 10, 'n_estimators': 26, 'reg_alpha': 0.0022376683053165628}\n"
     ]
    }
   ],
   "source": [
    "print(best)"
   ]
  },
  {
   "cell_type": "markdown",
   "id": "56d29c18-302a-4e6c-842f-2a6ec9e2b998",
   "metadata": {},
   "source": [
    "And trained model"
   ]
  },
  {
   "cell_type": "code",
   "execution_count": 25,
   "id": "4d6b452a-c329-4f11-a18a-1615bbd7c340",
   "metadata": {},
   "outputs": [],
   "source": [
    "trained_model = get_best_model_from_trials(trials)"
   ]
  },
  {
   "cell_type": "markdown",
   "id": "ac79815e-c497-4e07-812e-8916b7892eb6",
   "metadata": {},
   "source": [
    "**Check for **$R^{2}$****"
   ]
  },
  {
   "cell_type": "code",
   "execution_count": 28,
   "id": "88430741-20b0-4647-bb94-79862a8ec19e",
   "metadata": {},
   "outputs": [
    {
     "name": "stdout",
     "output_type": "stream",
     "text": [
      "R2 value is 0.5908799708671384\n",
      "RMSE value is 2.474471490980701\n"
     ]
    }
   ],
   "source": [
    "X_train, X_test, y_train, y_test = train_test_split(X, target)\n",
    "trained_model.fit(X_train, y_train)\n",
    "r2 = r2_score(y_test, trained_model.predict(X_test))\n",
    "rmse = root_mean_squared_error(y_test, trained_model.predict(X_test))\n",
    "print('R2 value is {}'.format(r2))\n",
    "print('RMSE value is {}'.format(rmse))\n"
   ]
  },
  {
   "cell_type": "markdown",
   "id": "be54c165-d91d-47b6-af16-a467b8307ed2",
   "metadata": {},
   "source": [
    "**Create final calculator**"
   ]
  },
  {
   "cell_type": "code",
   "execution_count": 29,
   "id": "124f68c0-b8fb-47fd-b8c2-7a4fc18f6f3e",
   "metadata": {},
   "outputs": [],
   "source": [
    "trained_model = trained_model.fit(X, target)"
   ]
  }
 ],
 "metadata": {
  "kernelspec": {
   "display_name": "Python 3 (ipykernel)",
   "language": "python",
   "name": "python3"
  },
  "language_info": {
   "codemirror_mode": {
    "name": "ipython",
    "version": 3
   },
   "file_extension": ".py",
   "mimetype": "text/x-python",
   "name": "python",
   "nbconvert_exporter": "python",
   "pygments_lexer": "ipython3",
   "version": "3.11.9"
  }
 },
 "nbformat": 4,
 "nbformat_minor": 5
}
