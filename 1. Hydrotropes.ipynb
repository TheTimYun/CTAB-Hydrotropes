{
 "cells": [
  {
   "cell_type": "markdown",
   "id": "234d0994-1e0c-42e6-b4fe-822450ce22ed",
   "metadata": {},
   "source": [
    "**Overview**  \n",
    "This notebook describes folloiwing stages:\n",
    "1. Data import and reading;\n",
    "2. Transofrmation of data;\n",
    "3. Calculation of descriptors;\n",
    "4. Dropping the most correlated features;\n",
    "5. Export of features sets and target sets"
   ]
  },
  {
   "cell_type": "code",
   "execution_count": 4,
   "id": "f13ec6bd-0951-49e6-a011-9bde2b6d46c4",
   "metadata": {},
   "outputs": [],
   "source": [
    "from rdkit import RDConfig\n",
    "from tqdm import tqdm\n",
    "import pandas as pd\n",
    "from rdkit import Chem\n",
    "from rdkit.Chem import AllChem\n",
    "from copy import copy\n",
    "import numpy as np\n",
    "import matplotlib.pyplot as plt\n",
    "import seaborn as sns\n",
    "import os \n",
    "from sklearn.decomposition import PCA\n",
    "import datamol as dm\n",
    "from molfeat.calc import RDKitDescriptors2D, RDKitDescriptors3D\n",
    "from molfeat.trans import MoleculeTransformer\n",
    "from molfeat_padel.calc import PadelDescriptors\n",
    "import pickle\n",
    "from sklearn.impute import KNNImputer\n",
    "from feature_engine.selection import DropCorrelatedFeatures \n",
    "from rdkit.Chem.rdMolAlign import AlignMol"
   ]
  },
  {
   "cell_type": "markdown",
   "id": "10c66232-0d88-4573-b656-0c54b0117684",
   "metadata": {},
   "source": [
    "First, let's read the data. It is given in '.xlsx' file and consists of several columns, containing information about additive:  \n",
    "\n",
    "- Chemical name;\n",
    "- SMILES of the additiveю\n",
    "\n",
    "Physical characteristic of the solution:  \n",
    "- CTAB concentration;\n",
    "- Additive concenetrion;\n",
    "- Temperature (in  C).\n",
    "- Ratio of CTAB and additive concentrations.\n",
    "\n",
    "Finally, there is information that we want to predict:\n",
    "\n",
    "- If the solution is gel;\n",
    "- Viscosity of the solution in cP"
   ]
  },
  {
   "cell_type": "code",
   "execution_count": 5,
   "id": "e558e84f-78bd-451e-93ca-64c36449d4c1",
   "metadata": {},
   "outputs": [
    {
     "data": {
      "text/html": [
       "<div>\n",
       "<style scoped>\n",
       "    .dataframe tbody tr th:only-of-type {\n",
       "        vertical-align: middle;\n",
       "    }\n",
       "\n",
       "    .dataframe tbody tr th {\n",
       "        vertical-align: top;\n",
       "    }\n",
       "\n",
       "    .dataframe thead th {\n",
       "        text-align: right;\n",
       "    }\n",
       "</style>\n",
       "<table border=\"1\" class=\"dataframe\">\n",
       "  <thead>\n",
       "    <tr style=\"text-align: right;\">\n",
       "      <th></th>\n",
       "      <th>Trivial name</th>\n",
       "      <th>SMILES</th>\n",
       "      <th>CTAB concentration (mM)</th>\n",
       "      <th>Additive concentration</th>\n",
       "      <th>CTAB/additive</th>\n",
       "      <th>Temperature</th>\n",
       "      <th>Is gel</th>\n",
       "      <th>Zero-shear viscosity</th>\n",
       "    </tr>\n",
       "  </thead>\n",
       "  <tbody>\n",
       "    <tr>\n",
       "      <th>0</th>\n",
       "      <td>4-[(E)-phenyldiazenyl] benzoate</td>\n",
       "      <td>[O-]C(=O)c1ccc(/N=N/c2ccccc2)cc1</td>\n",
       "      <td>20.0</td>\n",
       "      <td>3.245562</td>\n",
       "      <td>6.162262</td>\n",
       "      <td>50.0</td>\n",
       "      <td>0</td>\n",
       "      <td>1.044777</td>\n",
       "    </tr>\n",
       "    <tr>\n",
       "      <th>1</th>\n",
       "      <td>4-[(E)-phenyldiazenyl] benzoate</td>\n",
       "      <td>[O-]C(=O)c1ccc(/N=N/c2ccccc2)cc1</td>\n",
       "      <td>20.0</td>\n",
       "      <td>7.526631</td>\n",
       "      <td>2.657232</td>\n",
       "      <td>50.0</td>\n",
       "      <td>0</td>\n",
       "      <td>1.947203</td>\n",
       "    </tr>\n",
       "    <tr>\n",
       "      <th>2</th>\n",
       "      <td>4-[(E)-phenyldiazenyl] benzoate</td>\n",
       "      <td>[O-]C(=O)c1ccc(/N=N/c2ccccc2)cc1</td>\n",
       "      <td>20.0</td>\n",
       "      <td>8.556309</td>\n",
       "      <td>2.337456</td>\n",
       "      <td>50.0</td>\n",
       "      <td>0</td>\n",
       "      <td>3.707292</td>\n",
       "    </tr>\n",
       "    <tr>\n",
       "      <th>3</th>\n",
       "      <td>4-[(E)-phenyldiazenyl] benzoate</td>\n",
       "      <td>[O-]C(=O)c1ccc(/N=N/c2ccccc2)cc1</td>\n",
       "      <td>20.0</td>\n",
       "      <td>9.569015</td>\n",
       "      <td>2.090079</td>\n",
       "      <td>50.0</td>\n",
       "      <td>1</td>\n",
       "      <td>68.649643</td>\n",
       "    </tr>\n",
       "    <tr>\n",
       "      <th>4</th>\n",
       "      <td>4-[(E)-phenyldiazenyl] benzoate</td>\n",
       "      <td>[O-]C(=O)c1ccc(/N=N/c2ccccc2)cc1</td>\n",
       "      <td>20.0</td>\n",
       "      <td>10.568348</td>\n",
       "      <td>1.892443</td>\n",
       "      <td>50.0</td>\n",
       "      <td>1</td>\n",
       "      <td>7631.210212</td>\n",
       "    </tr>\n",
       "  </tbody>\n",
       "</table>\n",
       "</div>"
      ],
      "text/plain": [
       "                      Trivial name                            SMILES  \\\n",
       "0  4-[(E)-phenyldiazenyl] benzoate  [O-]C(=O)c1ccc(/N=N/c2ccccc2)cc1   \n",
       "1  4-[(E)-phenyldiazenyl] benzoate  [O-]C(=O)c1ccc(/N=N/c2ccccc2)cc1   \n",
       "2  4-[(E)-phenyldiazenyl] benzoate  [O-]C(=O)c1ccc(/N=N/c2ccccc2)cc1   \n",
       "3  4-[(E)-phenyldiazenyl] benzoate  [O-]C(=O)c1ccc(/N=N/c2ccccc2)cc1   \n",
       "4  4-[(E)-phenyldiazenyl] benzoate  [O-]C(=O)c1ccc(/N=N/c2ccccc2)cc1   \n",
       "\n",
       "   CTAB concentration (mM)  Additive concentration  CTAB/additive  \\\n",
       "0                     20.0                3.245562       6.162262   \n",
       "1                     20.0                7.526631       2.657232   \n",
       "2                     20.0                8.556309       2.337456   \n",
       "3                     20.0                9.569015       2.090079   \n",
       "4                     20.0               10.568348       1.892443   \n",
       "\n",
       "   Temperature  Is gel  Zero-shear viscosity  \n",
       "0         50.0       0              1.044777  \n",
       "1         50.0       0              1.947203  \n",
       "2         50.0       0              3.707292  \n",
       "3         50.0       1             68.649643  \n",
       "4         50.0       1           7631.210212  "
      ]
     },
     "execution_count": 5,
     "metadata": {},
     "output_type": "execute_result"
    }
   ],
   "source": [
    "Data = pd.read_excel('Data.xlsx', sheet_name='Sheet1')\n",
    "Data.head()"
   ]
  },
  {
   "cell_type": "markdown",
   "id": "89980cd5-ee32-423d-b3a8-9b545854e4ca",
   "metadata": {},
   "source": [
    "As our SMILES are received from different sources, we need to canonicalize them to remove duplicates, to make groups, based on chemical nature. Actually, this function consists of their convertation to RDKit molecule object and reverse procedure. Then we apply the function to all the rows in our DataFrame"
   ]
  },
  {
   "cell_type": "code",
   "execution_count": 6,
   "id": "0d3a2e5f-3669-4282-98f5-58638a35b06e",
   "metadata": {},
   "outputs": [],
   "source": [
    "def canonicalize_smiles(smi):\n",
    "    try:\n",
    "        new_smi =  Chem.MolToSmiles(Chem.MolFromSmiles(smi))\n",
    "        return new_smi\n",
    "    except:\n",
    "        print(smi)"
   ]
  },
  {
   "cell_type": "code",
   "execution_count": 7,
   "id": "a74e1824-a82c-4775-aa84-896af8c3796a",
   "metadata": {},
   "outputs": [],
   "source": [
    "Data.loc[:, 'SMILES']  = Data['SMILES'].apply(canonicalize_smiles)"
   ]
  },
  {
   "cell_type": "markdown",
   "id": "5d03be58-d58e-4590-8a7b-09ed01c47c97",
   "metadata": {},
   "source": [
    "**PCA visual decomposition**  \n",
    "\n",
    "The sidetask of this notebook is to check if viscosity and geleness of the solution have any correlation with chemical and physical properties of the system. To do it, we:\n",
    "1. Calculate Morgan fingerprints for all molecules;\n",
    "2. Concatenate info about concentrations and temperatures into single DataFrame;\n",
    "3. Decompose data with PCA algorithm (2 сomponents);\n",
    "4. Carry out visual inspection"
   ]
  },
  {
   "cell_type": "code",
   "execution_count": 8,
   "id": "73f39dbb-b295-40e1-a9fc-0719a2674441",
   "metadata": {
    "scrolled": true
   },
   "outputs": [],
   "source": [
    "fingerprints = []\n",
    "for i, smi in enumerate(Data.SMILES.values):\n",
    "    fingerprints.append(AllChem.GetMorganFingerprintAsBitVect(Chem.MolFromSmiles(smi), radius = 3))\n",
    "fingerprints = np.array(fingerprints)"
   ]
  },
  {
   "cell_type": "code",
   "execution_count": 9,
   "id": "c0a26fd4-6587-469b-8817-1a9b100ade78",
   "metadata": {},
   "outputs": [],
   "source": [
    "fp_df = pd.DataFrame(np.stack(fingerprints), columns = ['fp{}'.format(i) for i in range(2048)])"
   ]
  },
  {
   "cell_type": "code",
   "execution_count": 10,
   "id": "f048ae9a-8b64-43d2-a6c0-07d0a65f24c3",
   "metadata": {},
   "outputs": [],
   "source": [
    "X = pd.concat([Data.drop(columns = ['Trivial name', 'SMILES', 'Is gel', 'Zero-shear viscosity']), fp_df], axis = 1)"
   ]
  },
  {
   "cell_type": "code",
   "execution_count": 11,
   "id": "28b22617-4959-4aa1-b758-b49caa99a6c5",
   "metadata": {},
   "outputs": [],
   "source": [
    "pca = PCA(n_components=2, svd_solver='full')\n",
    "principal_components = pca.fit_transform(X)"
   ]
  },
  {
   "cell_type": "code",
   "execution_count": 46,
   "id": "ab185f77-87b3-42b6-8e98-678dadab48ff",
   "metadata": {},
   "outputs": [
    {
     "data": {
      "text/plain": [
       "Text(0, 0.5, 'PCA2')"
      ]
     },
     "execution_count": 46,
     "metadata": {},
     "output_type": "execute_result"
    },
    {
     "data": {
      "image/png": "[encoded data removed]",
      "text/plain": [
       "<Figure size 640x480 with 1 Axes>"
      ]
     },
     "metadata": {},
     "output_type": "display_data"
    }
   ],
   "source": [
    "sns.scatterplot(x = principal_components[:,0], y = principal_components[:,1], hue = Data['Is gel'])\n",
    "plt.xlabel('PCA 1')\n",
    "plt.ylabel('PCA2')"
   ]
  },
  {
   "cell_type": "markdown",
   "id": "ec32b7cc-289d-4d11-b4a6-693feca1d380",
   "metadata": {},
   "source": [
    "Wow, now we see, that orange dots (gel) forms some kind of a cluster. If we draw a more or less sophisticated curve, we can divide gels and non-gels so it seems that the task of prediction of viscosifying properties with the use of chemical properties of hydrotrope additive can be solved."
   ]
  },
  {
   "cell_type": "markdown",
   "id": "02ff2b60-820a-4cf7-9dff-2965f0e7c9dd",
   "metadata": {},
   "source": [
    "**Descriptors calculation**"
   ]
  },
  {
   "cell_type": "markdown",
   "id": "bb083fff-a909-411e-a26f-e6e278dac809",
   "metadata": {},
   "source": [
    "To calculate 3D descriptors, all the molecules should be embedded. To do it, we create special function and then apply it to every molecule in Data"
   ]
  },
  {
   "cell_type": "code",
   "execution_count": 13,
   "id": "45fb714f-4b10-40f3-abf1-c653a91167fd",
   "metadata": {},
   "outputs": [],
   "source": [
    "def embed_optimize(smi):\n",
    "    m = Chem.MolFromSmiles(smi)\n",
    "    m = Chem.AddHs(m)\n",
    "    AllChem.EmbedMolecule(m)\n",
    "    AllChem.MMFFOptimizeMolecule(m, maxIters=500)\n",
    "    return m"
   ]
  },
  {
   "cell_type": "code",
   "execution_count": 14,
   "id": "d331b898-5453-4b0b-a887-fbdaaee1b04c",
   "metadata": {
    "scrolled": true
   },
   "outputs": [],
   "source": [
    "Data['mol'] = Data.SMILES.apply(embed_optimize)"
   ]
  },
  {
   "cell_type": "markdown",
   "id": "0471ef7f-e40d-4987-9e79-07784392e7c7",
   "metadata": {},
   "source": [
    "Then we create instances of descriptors calculators and molecule transformers and calculate 2D and 3D RDKit descriptors"
   ]
  },
  {
   "cell_type": "code",
   "execution_count": 15,
   "id": "9ed8602f-389e-4f7c-8ddd-05cbe63cf8f1",
   "metadata": {},
   "outputs": [],
   "source": [
    "calc_2d = RDKitDescriptors2D()\n",
    "calc_3d = RDKitDescriptors3D()\n",
    "trans_2D = MoleculeTransformer(calc_2d, verbose = True)\n",
    "trans_3D = MoleculeTransformer(calc_3d, verbose = True)"
   ]
  },
  {
   "cell_type": "code",
   "execution_count": 16,
   "id": "3714f4c1-53e8-4700-bdd8-35eeecde9ec0",
   "metadata": {},
   "outputs": [
    {
     "name": "stderr",
     "output_type": "stream",
     "text": [
      "C:\\Users\\Timur\\anaconda3\\envs\\ChemInfo-Pytorch\\Lib\\site-packages\\tqdm\\auto.py:21: TqdmWarning: IProgress not found. Please update jupyter and ipywidgets. See https://ipywidgets.readthedocs.io/en/stable/user_install.html\n",
      "  from .autonotebook import tqdm as notebook_tqdm\n"
     ]
    }
   ],
   "source": [
    "with dm.without_rdkit_log():\n",
    "    feats_2D = trans_2D(Data.mol.values)\n",
    "    feats_3D = trans_3D(Data.mol.values)"
   ]
  },
  {
   "cell_type": "markdown",
   "id": "a18eb208-f8c5-4909-b33e-90ed049e9cc4",
   "metadata": {},
   "source": [
    "The set of **standard descriptors** set will contain Morgan fingerprints, calculated earlier, and RDKit descriptors. We concatenate them into one large DataFrame"
   ]
  },
  {
   "cell_type": "code",
   "execution_count": 17,
   "id": "02c26c34-baf5-44e1-a537-8a992ec46cb4",
   "metadata": {},
   "outputs": [],
   "source": [
    "_descriptors = pd.DataFrame(np.concatenate([feats_2D, feats_3D], axis  = 1), columns=calc_2d.columns + calc_3d.columns)\n",
    "X_standard = pd.concat([X, _descriptors], axis = 1)\n",
    "X_standard = X_standard.dropna(axis =1, how = 'all')\n",
    "X_standard.drop(columns='Alerts', inplace = True)"
   ]
  },
  {
   "cell_type": "markdown",
   "id": "1034d95d-73aa-40db-a976-c93e5763b4db",
   "metadata": {},
   "source": [
    "To create DataSet of **[Padel descriptors](https://onlinelibrary.wiley.com/doi/full/10.1002/jcc.21707)**, we will use add-on for molfeat. As calculation process is extrewmely slow, we will calculate it for unique molecules (that's why we canonicalized SMILES earlier).We calculate PaDel descriptors into special ictionary and then concatenate vectors of descriptors with original data"
   ]
  },
  {
   "cell_type": "code",
   "execution_count": 18,
   "id": "7bb530df-1d34-4412-a086-e49b21497811",
   "metadata": {},
   "outputs": [],
   "source": [
    "compounds_smi = Data.SMILES.unique()"
   ]
  },
  {
   "cell_type": "code",
   "execution_count": 19,
   "id": "74012ce1-dd58-49d9-a40a-49bf08cd84f2",
   "metadata": {},
   "outputs": [],
   "source": [
    "calc_padel = MoleculeTransformer(featurizer=PadelDescriptors())"
   ]
  },
  {
   "cell_type": "code",
   "execution_count": 20,
   "id": "71ba3cf3-6bbe-4613-9568-62564d17ef5f",
   "metadata": {},
   "outputs": [
    {
     "name": "stderr",
     "output_type": "stream",
     "text": [
      "100%|████████████████████████████████████████████████████████████████████████████████| 119/119 [04:21<00:00,  2.20s/it]\n"
     ]
    }
   ],
   "source": [
    "padel_dict = {}\n",
    "for smi in tqdm(compounds_smi):\n",
    "    padel_dict[smi]= calc_padel(smi)"
   ]
  },
  {
   "cell_type": "code",
   "execution_count": 21,
   "id": "06734e0e-38f7-4265-9047-cdb008f2c8ab",
   "metadata": {},
   "outputs": [],
   "source": [
    "X_padel = Data\n",
    "X_padel['padel'] = pd.Series([padel_dict[smi].flatten() for smi in X_padel.SMILES.values])"
   ]
  },
  {
   "cell_type": "code",
   "execution_count": 22,
   "id": "1cdb8fec-f0f6-4d62-a636-3c81da20c377",
   "metadata": {},
   "outputs": [],
   "source": [
    "_descriptors_padel = pd.DataFrame(np.stack(X_padel['padel'].to_numpy()), columns=PadelDescriptors().columns)"
   ]
  },
  {
   "cell_type": "code",
   "execution_count": 23,
   "id": "73d1fdd1-75cc-46df-9357-b202e6fd5c8b",
   "metadata": {},
   "outputs": [],
   "source": [
    "X_padel = pd.concat([X_padel.drop(columns = ['padel', 'Trivial name', 'SMILES', 'Is gel', 'Zero-shear viscosity', 'mol']), _descriptors_padel], axis = 1)"
   ]
  },
  {
   "cell_type": "markdown",
   "id": "eaf73ea8-3af4-40a1-872f-1e0e2f4c8ee4",
   "metadata": {},
   "source": [
    "As some of the data is missing, we can recalculate it with simple scikit-learn [KNN imputer](https://scikit-learn.org/stable/modules/generated/sklearn.impute.KNNImputer.html)"
   ]
  },
  {
   "cell_type": "code",
   "execution_count": 29,
   "id": "2be6fc57-ea46-4246-83e9-8e8d16ded5bd",
   "metadata": {},
   "outputs": [
    {
     "data": {
      "text/plain": [
       "PaDEL_MOMI-X               69\n",
       "PaDEL_TDB7i                69\n",
       "PaDEL_TDB10s               69\n",
       "PaDEL_TDB9s                69\n",
       "PaDEL_TDB8s                69\n",
       "                           ..\n",
       "PaDEL_PubchemFP103          0\n",
       "PaDEL_PubchemFP102          0\n",
       "PaDEL_PubchemFP101          0\n",
       "PaDEL_PubchemFP100          0\n",
       "CTAB concentration (mM)     0\n",
       "Length: 2760, dtype: int64"
      ]
     },
     "execution_count": 29,
     "metadata": {},
     "output_type": "execute_result"
    }
   ],
   "source": [
    "X_padel.isnull().sum().sort_values()[::-1]"
   ]
  },
  {
   "cell_type": "code",
   "execution_count": 30,
   "id": "1f058e03-c4ba-40e2-90fb-5e88ca348462",
   "metadata": {},
   "outputs": [],
   "source": [
    "columns = X_padel.columns\n",
    "imputer = KNNImputer()\n",
    "X_padel = imputer.fit_transform(X_padel)\n",
    "X_padel = pd.DataFrame(X_padel, columns=columns)"
   ]
  },
  {
   "cell_type": "markdown",
   "id": "62de73e4-bdb5-4396-b8f8-b02ac3330feb",
   "metadata": {},
   "source": [
    "Now, let's export and import full datasets with pickle module"
   ]
  },
  {
   "cell_type": "raw",
   "id": "5a3f4568-aea3-4ec8-a9ce-35f7559527f1",
   "metadata": {},
   "source": [
    "with open('X_standard.pickle', 'wb') as output:\n",
    "    pickle.dump(X_standard, output)"
   ]
  },
  {
   "cell_type": "raw",
   "id": "d1022331-e747-4519-aabf-02ef4164f57d",
   "metadata": {},
   "source": [
    "with open('X_padel.pickle', 'wb') as output:\n",
    "    pickle.dump(X_padel, output)"
   ]
  },
  {
   "cell_type": "code",
   "execution_count": 23,
   "id": "06575d3d-46d5-4274-9762-eff2c7e164f3",
   "metadata": {},
   "outputs": [],
   "source": [
    "with open('X_padel.pickle', 'rb') as input:\n",
    "    X_padel = pickle.load(input)"
   ]
  },
  {
   "cell_type": "code",
   "execution_count": 24,
   "id": "ecc78541-0242-4805-9b6a-f11ded93e153",
   "metadata": {},
   "outputs": [],
   "source": [
    "with open('X_standard.pickle', 'rb') as input:\n",
    "    X_standard = pickle.load(input)"
   ]
  },
  {
   "cell_type": "markdown",
   "id": "b0761852-8cb9-46bc-9af2-3a514e24582b",
   "metadata": {},
   "source": [
    "**Getting rid of correlated features**"
   ]
  },
  {
   "cell_type": "markdown",
   "id": "0ff6bb1b-6f8b-4fd9-88fa-bb94d7609c1a",
   "metadata": {},
   "source": [
    "Both datasets contain a large number of features (2904 for standard and 2760 for PaDel), some of them are correlated. It can impart our ML results and will require more computing power and time. We can use DropCorrelated features function of features-engine module with Pearson coefficient 0.8 to decrease the number of features and speed up caclulations"
   ]
  },
  {
   "cell_type": "code",
   "execution_count": 40,
   "id": "751914fe-e7b6-4375-9e89-62e40362339b",
   "metadata": {},
   "outputs": [
    {
     "name": "stdout",
     "output_type": "stream",
     "text": [
      "The number of features in Standard descriptors is 2904\n",
      "The number of features in PaDel descriptors is 2760\n"
     ]
    }
   ],
   "source": [
    "print('The number of features in Standard descriptors is {}'.format(X_standard.shape[1]))\n",
    "print('The number of features in PaDel descriptors is {}'.format(X_padel.shape[1]))"
   ]
  },
  {
   "cell_type": "code",
   "execution_count": 31,
   "id": "dd32cab7-733e-4804-afd4-d984c33ce982",
   "metadata": {},
   "outputs": [],
   "source": [
    "dropper = DropCorrelatedFeatures(threshold=0.8)\n",
    "X_standard_dropped = dropper.fit_transform(X_standard)"
   ]
  },
  {
   "cell_type": "code",
   "execution_count": 32,
   "id": "361ecbcb-8e75-48e6-b1a6-ef04ba35fbf5",
   "metadata": {},
   "outputs": [],
   "source": [
    "padel_dropped = DropCorrelatedFeatures(threshold=0.8)\n",
    "X_padel_dropped = dropper.fit_transform(X_padel)"
   ]
  },
  {
   "cell_type": "code",
   "execution_count": 39,
   "id": "aa92a406-b35c-4f5b-8d11-8a8e6b685b6f",
   "metadata": {},
   "outputs": [
    {
     "name": "stdout",
     "output_type": "stream",
     "text": [
      "The number of features in Standard_dropped descriptors is 1871\n",
      "The number of features in PaDel_dropped descriptors is 1287\n"
     ]
    }
   ],
   "source": [
    "print('The number of features in Standard_dropped descriptors is {}'.format(X_standard_dropped.shape[1]))\n",
    "print('The number of features in PaDel_dropped descriptors is {}'.format(X_padel_dropped.shape[1]))"
   ]
  },
  {
   "cell_type": "markdown",
   "id": "51090d31-857c-464a-8de7-a37fe3c2691e",
   "metadata": {},
   "source": [
    "We decreased the number of features to 1871 and 1287 for standard features and PaDel features, respectively. Let's export both datasets"
   ]
  },
  {
   "cell_type": "code",
   "execution_count": 41,
   "id": "5158b2e9-1c29-4dfe-a9cd-8b28ebcb3794",
   "metadata": {},
   "outputs": [],
   "source": [
    "with open('X_standard_dropped.pickle', 'wb') as output:\n",
    "    pickle.dump(X_standard_dropped, output)"
   ]
  },
  {
   "cell_type": "code",
   "execution_count": 43,
   "id": "5e8e742f-2f99-4ce1-80fd-69cdca889b0f",
   "metadata": {},
   "outputs": [],
   "source": [
    "with open('X_padel_dropped.pickle', 'wb') as output:\n",
    "    pickle.dump(X_padel_dropped, output)"
   ]
  },
  {
   "cell_type": "code",
   "execution_count": 42,
   "id": "74604abe-fc14-4867-8ff5-a97061158cb1",
   "metadata": {},
   "outputs": [],
   "source": [
    "with open('features_to_drop.pickle', 'wb') as output:\n",
    "    pickle.dump(dropper.features_to_drop_, output)"
   ]
  },
  {
   "cell_type": "markdown",
   "id": "83cb4c33-852d-44aa-8cde-9da88c32cfc4",
   "metadata": {},
   "source": [
    "**PCA decomposition**"
   ]
  },
  {
   "cell_type": "markdown",
   "id": "cc7a0b00-537b-4181-a33b-1210c77ddd0c",
   "metadata": {},
   "source": [
    "As simple visual inspection with PCA showed encouraging results, it may happen that dimensionality reduction with PCA will let us to train model and predict faster and not less accuratem then in case of using simple descriptors. Let's perform PCA descomposition wtih number of components equal to the number of samples and export PCA datasets with pickle"
   ]
  },
  {
   "cell_type": "code",
   "execution_count": 60,
   "id": "4468f374-99f8-4eba-9474-9ea7bce28690",
   "metadata": {},
   "outputs": [],
   "source": [
    "pca = PCA(n_components=  605)\n",
    "X_standard_pca = pca.fit_transform(X_standard)"
   ]
  },
  {
   "cell_type": "code",
   "execution_count": 61,
   "id": "ec9adcc9-8160-4c09-a9f2-662750951248",
   "metadata": {},
   "outputs": [],
   "source": [
    "pca = PCA(n_components=  605)\n",
    "X_padel_pca = pca.fit_transform(X_padel)"
   ]
  },
  {
   "cell_type": "code",
   "execution_count": 64,
   "id": "8d8f0b62-15f5-4378-9eab-825414c9ff9c",
   "metadata": {},
   "outputs": [],
   "source": [
    "X_padel_pca = pd.DataFrame(X_padel_pca, columns = ['PCA {}'.format(i) for i in range(X_padel_pca.shape[1])])"
   ]
  },
  {
   "cell_type": "code",
   "execution_count": 66,
   "id": "272536d3-e21d-47a3-86ee-d918a9cbc88f",
   "metadata": {},
   "outputs": [],
   "source": [
    "X_standard_pca = pd.DataFrame(X_standard_pca, columns = ['PCA {}'.format(i) for i in range(X_standard_pca.shape[1])])"
   ]
  },
  {
   "cell_type": "code",
   "execution_count": 68,
   "id": "a9e1697b-7f13-4906-9131-789545031fc3",
   "metadata": {},
   "outputs": [],
   "source": [
    "with open('X_standard_pca.pickle', 'wb') as output:\n",
    "    pickle.dump(X_standard_pca, output)"
   ]
  },
  {
   "cell_type": "code",
   "execution_count": 69,
   "id": "5acd66c1-4b55-43ce-9a29-f425b4db3df7",
   "metadata": {},
   "outputs": [],
   "source": [
    "with open('X_padel_pca.pickle', 'wb') as output:\n",
    "    pickle.dump(X_padel_pca, output)"
   ]
  },
  {
   "cell_type": "markdown",
   "id": "2f3d77a8-59d5-4707-82ec-7e8a19754672",
   "metadata": {},
   "source": [
    "**Export of target**"
   ]
  },
  {
   "cell_type": "code",
   "execution_count": 42,
   "id": "ab7c652a-6c47-4ab8-bf80-29c353594193",
   "metadata": {},
   "outputs": [],
   "source": [
    "viscosity = Data['Zero-shear viscosity']\n",
    "with open('viscosity.pickle', 'wb') as output:\n",
    "    pickle.dump(viscosity, output)"
   ]
  },
  {
   "cell_type": "code",
   "execution_count": 43,
   "id": "03d588a6-c076-4720-b404-c4f3eb5db2d3",
   "metadata": {},
   "outputs": [],
   "source": [
    "y = Data['Is gel']"
   ]
  },
  {
   "cell_type": "code",
   "execution_count": 44,
   "id": "c1b487d7-7fa4-4750-9025-98f96516ad0e",
   "metadata": {},
   "outputs": [],
   "source": [
    "with open('y.pickle', 'wb') as output:\n",
    "    pickle.dump(y, output)\n"
   ]
  },
  {
   "cell_type": "markdown",
   "id": "74825c87-c956-47c7-9157-afa988e24525",
   "metadata": {},
   "source": [
    "**Grouping with SMILES for better cross-validation**\n",
    "\n",
    "We will search for the best algorithm with the use of cross-validation. However, we can hypothesize, that is we divide our set into \"training fold\" and \"test fold\" in a random way, the result we get will be worse. So that we will perform \"smart\" splitting such that if the compound is assigned to the fold, all instances of this compound will be assigned to the same fold. To do it, we need to create numerical representations of groups assigning uniqe number to each unique SMILES. Then we export it with pickle module"
   ]
  },
  {
   "cell_type": "code",
   "execution_count": 16,
   "id": "97570b22-f2e8-43c6-bf9f-7ed8e6161a8e",
   "metadata": {},
   "outputs": [],
   "source": [
    "groups_dict = {smi: i for i, smi in enumerate(Data['SMILES'].unique())}"
   ]
  },
  {
   "cell_type": "code",
   "execution_count": 18,
   "id": "42742c1d-e6c5-4946-8ef2-0a8a6af7e91f",
   "metadata": {},
   "outputs": [],
   "source": [
    "Data['group'] = pd.Series([groups_dict[smi] for smi in Data['SMILES'].values])"
   ]
  },
  {
   "cell_type": "code",
   "execution_count": 20,
   "id": "978903ea-0e7e-4f4f-b523-76cec438185d",
   "metadata": {},
   "outputs": [],
   "source": [
    "with open('groups.pickle', 'wb') as output:\n",
    "    pickle.dump(Data['group'].values, output)"
   ]
  }
 ],
 "metadata": {
  "kernelspec": {
   "display_name": "Python 3 (ipykernel)",
   "language": "python",
   "name": "python3"
  },
  "language_info": {
   "codemirror_mode": {
    "name": "ipython",
    "version": 3
   },
   "file_extension": ".py",
   "mimetype": "text/x-python",
   "name": "python",
   "nbconvert_exporter": "python",
   "pygments_lexer": "ipython3",
   "version": "3.11.9"
  }
 },
 "nbformat": 4,
 "nbformat_minor": 5
}
