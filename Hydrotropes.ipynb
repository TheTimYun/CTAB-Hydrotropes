{
 "cells": [
  {
   "cell_type": "code",
   "execution_count": 6,
   "id": "f13ec6bd-0951-49e6-a011-9bde2b6d46c4",
   "metadata": {},
   "outputs": [],
   "source": [
    "from rdkit import RDConfig\n",
    "#RDConfig.RDDataDir =  'C:/Users/timur/anaconda3/envs/Cheminformatics_env/Lib/site-packages/rdkit/Data'\n",
    "from tqdm import tqdm\n",
    "import pandas as pd\n",
    "from rdkit import Chem\n",
    "from rdkit.Chem import AllChem\n",
    "from copy import copy\n",
    "import numpy as np\n",
    "import matplotlib.pyplot as plt\n",
    "import seaborn as sns\n",
    "import os \n",
    "from sklearn.decomposition import PCA\n",
    "import datamol as dm\n",
    "from molfeat.calc import RDKitDescriptors2D, RDKitDescriptors3D\n",
    "from molfeat.trans import MoleculeTransformer\n",
    "from molfeat_padel.calc import PadelDescriptors\n",
    "import pickle\n",
    "from sklearn.impute import KNNImputer\n",
    "from feature_engine.selection import DropCorrelatedFeatures \n",
    "from rdkit.Chem.rdMolAlign import AlignMol"
   ]
  },
  {
   "cell_type": "code",
   "execution_count": 7,
   "id": "e558e84f-78bd-451e-93ca-64c36449d4c1",
   "metadata": {},
   "outputs": [],
   "source": [
    "Data = pd.read_excel('Data.xlsx', sheet_name='Sheet1')"
   ]
  },
  {
   "cell_type": "code",
   "execution_count": 8,
   "id": "71866b7d-5721-4dc4-9962-e7588cd6d8ba",
   "metadata": {},
   "outputs": [
    {
     "data": {
      "text/html": [
       "<div>\n",
       "<style scoped>\n",
       "    .dataframe tbody tr th:only-of-type {\n",
       "        vertical-align: middle;\n",
       "    }\n",
       "\n",
       "    .dataframe tbody tr th {\n",
       "        vertical-align: top;\n",
       "    }\n",
       "\n",
       "    .dataframe thead th {\n",
       "        text-align: right;\n",
       "    }\n",
       "</style>\n",
       "<table border=\"1\" class=\"dataframe\">\n",
       "  <thead>\n",
       "    <tr style=\"text-align: right;\">\n",
       "      <th></th>\n",
       "      <th>Trivial name</th>\n",
       "      <th>SMILES</th>\n",
       "      <th>CTAB concentration (mM)</th>\n",
       "      <th>Additive concentration</th>\n",
       "      <th>CTAB/additive</th>\n",
       "      <th>Temperature</th>\n",
       "      <th>Is gel</th>\n",
       "      <th>Zero-shear viscosity</th>\n",
       "    </tr>\n",
       "  </thead>\n",
       "  <tbody>\n",
       "    <tr>\n",
       "      <th>0</th>\n",
       "      <td>4-[(E)-phenyldiazenyl] benzoate</td>\n",
       "      <td>[O-]C(=O)c1ccc(/N=N/c2ccccc2)cc1</td>\n",
       "      <td>20.0</td>\n",
       "      <td>3.245562</td>\n",
       "      <td>6.162262</td>\n",
       "      <td>50.0</td>\n",
       "      <td>0</td>\n",
       "      <td>1.044777</td>\n",
       "    </tr>\n",
       "    <tr>\n",
       "      <th>1</th>\n",
       "      <td>4-[(E)-phenyldiazenyl] benzoate</td>\n",
       "      <td>[O-]C(=O)c1ccc(/N=N/c2ccccc2)cc1</td>\n",
       "      <td>20.0</td>\n",
       "      <td>7.526631</td>\n",
       "      <td>2.657232</td>\n",
       "      <td>50.0</td>\n",
       "      <td>0</td>\n",
       "      <td>1.947203</td>\n",
       "    </tr>\n",
       "    <tr>\n",
       "      <th>2</th>\n",
       "      <td>4-[(E)-phenyldiazenyl] benzoate</td>\n",
       "      <td>[O-]C(=O)c1ccc(/N=N/c2ccccc2)cc1</td>\n",
       "      <td>20.0</td>\n",
       "      <td>8.556309</td>\n",
       "      <td>2.337456</td>\n",
       "      <td>50.0</td>\n",
       "      <td>0</td>\n",
       "      <td>3.707292</td>\n",
       "    </tr>\n",
       "    <tr>\n",
       "      <th>3</th>\n",
       "      <td>4-[(E)-phenyldiazenyl] benzoate</td>\n",
       "      <td>[O-]C(=O)c1ccc(/N=N/c2ccccc2)cc1</td>\n",
       "      <td>20.0</td>\n",
       "      <td>9.569015</td>\n",
       "      <td>2.090079</td>\n",
       "      <td>50.0</td>\n",
       "      <td>1</td>\n",
       "      <td>68.649643</td>\n",
       "    </tr>\n",
       "    <tr>\n",
       "      <th>4</th>\n",
       "      <td>4-[(E)-phenyldiazenyl] benzoate</td>\n",
       "      <td>[O-]C(=O)c1ccc(/N=N/c2ccccc2)cc1</td>\n",
       "      <td>20.0</td>\n",
       "      <td>10.568348</td>\n",
       "      <td>1.892443</td>\n",
       "      <td>50.0</td>\n",
       "      <td>1</td>\n",
       "      <td>7631.210212</td>\n",
       "    </tr>\n",
       "  </tbody>\n",
       "</table>\n",
       "</div>"
      ],
      "text/plain": [
       "                      Trivial name                            SMILES  \\\n",
       "0  4-[(E)-phenyldiazenyl] benzoate  [O-]C(=O)c1ccc(/N=N/c2ccccc2)cc1   \n",
       "1  4-[(E)-phenyldiazenyl] benzoate  [O-]C(=O)c1ccc(/N=N/c2ccccc2)cc1   \n",
       "2  4-[(E)-phenyldiazenyl] benzoate  [O-]C(=O)c1ccc(/N=N/c2ccccc2)cc1   \n",
       "3  4-[(E)-phenyldiazenyl] benzoate  [O-]C(=O)c1ccc(/N=N/c2ccccc2)cc1   \n",
       "4  4-[(E)-phenyldiazenyl] benzoate  [O-]C(=O)c1ccc(/N=N/c2ccccc2)cc1   \n",
       "\n",
       "   CTAB concentration (mM)  Additive concentration  CTAB/additive  \\\n",
       "0                     20.0                3.245562       6.162262   \n",
       "1                     20.0                7.526631       2.657232   \n",
       "2                     20.0                8.556309       2.337456   \n",
       "3                     20.0                9.569015       2.090079   \n",
       "4                     20.0               10.568348       1.892443   \n",
       "\n",
       "   Temperature  Is gel  Zero-shear viscosity  \n",
       "0         50.0       0              1.044777  \n",
       "1         50.0       0              1.947203  \n",
       "2         50.0       0              3.707292  \n",
       "3         50.0       1             68.649643  \n",
       "4         50.0       1           7631.210212  "
      ]
     },
     "execution_count": 8,
     "metadata": {},
     "output_type": "execute_result"
    }
   ],
   "source": [
    "Data.head()"
   ]
  },
  {
   "cell_type": "code",
   "execution_count": 9,
   "id": "0d3a2e5f-3669-4282-98f5-58638a35b06e",
   "metadata": {},
   "outputs": [],
   "source": [
    "def canonicalize_smiles(smi):\n",
    "    try:\n",
    "        new_smi =  Chem.MolToSmiles(Chem.MolFromSmiles(smi))\n",
    "        return new_smi\n",
    "    except:\n",
    "        print(smi)"
   ]
  },
  {
   "cell_type": "code",
   "execution_count": 10,
   "id": "a74e1824-a82c-4775-aa84-896af8c3796a",
   "metadata": {},
   "outputs": [],
   "source": [
    "Data.loc[:, 'SMILES']  = Data['SMILES'].apply(canonicalize_smiles)"
   ]
  },
  {
   "cell_type": "code",
   "execution_count": 11,
   "id": "73f39dbb-b295-40e1-a9fc-0719a2674441",
   "metadata": {
    "scrolled": true
   },
   "outputs": [],
   "source": [
    "fingerprints = []\n",
    "for i, smi in enumerate(Data.SMILES.values):\n",
    "    fingerprints.append(AllChem.GetMorganFingerprintAsBitVect(Chem.MolFromSmiles(smi), radius = 3))\n",
    "fingerprints = np.array(fingerprints)"
   ]
  },
  {
   "cell_type": "code",
   "execution_count": 12,
   "id": "c0a26fd4-6587-469b-8817-1a9b100ade78",
   "metadata": {},
   "outputs": [],
   "source": [
    "fp_df = pd.DataFrame(np.stack(fingerprints), columns = ['fp{}'.format(i) for i in range(2048)])"
   ]
  },
  {
   "cell_type": "code",
   "execution_count": 13,
   "id": "f048ae9a-8b64-43d2-a6c0-07d0a65f24c3",
   "metadata": {},
   "outputs": [],
   "source": [
    "X = pd.concat([Data.drop(columns = ['Trivial name', 'SMILES', 'Is gel', 'Zero-shear viscosity']), fp_df], axis = 1)"
   ]
  },
  {
   "cell_type": "code",
   "execution_count": 14,
   "id": "28b22617-4959-4aa1-b758-b49caa99a6c5",
   "metadata": {},
   "outputs": [],
   "source": [
    "pca = PCA(n_components=2, svd_solver='full')\n",
    "principal_components = pca.fit_transform(X)"
   ]
  },
  {
   "cell_type": "code",
   "execution_count": 15,
   "id": "ab185f77-87b3-42b6-8e98-678dadab48ff",
   "metadata": {},
   "outputs": [
    {
     "data": {
      "text/plain": [
       "<Axes: >"
      ]
     },
     "execution_count": 15,
     "metadata": {},
     "output_type": "execute_result"
    },
    {
     "data": {
      "image/png": "[encoded data removed]",
      "text/plain": [
       "<Figure size 640x480 with 1 Axes>"
      ]
     },
     "metadata": {},
     "output_type": "display_data"
    }
   ],
   "source": [
    "sns.scatterplot(x = principal_components[:,0], y = principal_components[:,1], hue = Data['Is gel'])"
   ]
  },
  {
   "cell_type": "code",
   "execution_count": 16,
   "id": "45fb714f-4b10-40f3-abf1-c653a91167fd",
   "metadata": {},
   "outputs": [],
   "source": [
    "def embed_optimize(smi):\n",
    "    m = Chem.MolFromSmiles(smi)\n",
    "    m = Chem.AddHs(m)\n",
    "    AllChem.EmbedMolecule(m)\n",
    "    AllChem.MMFFOptimizeMolecule(m, maxIters=500)\n",
    "    return m"
   ]
  },
  {
   "cell_type": "code",
   "execution_count": 17,
   "id": "d331b898-5453-4b0b-a887-fbdaaee1b04c",
   "metadata": {
    "scrolled": true
   },
   "outputs": [],
   "source": [
    "Data['mol'] = Data.SMILES.apply(embed_optimize)"
   ]
  },
  {
   "cell_type": "code",
   "execution_count": 18,
   "id": "9ed8602f-389e-4f7c-8ddd-05cbe63cf8f1",
   "metadata": {},
   "outputs": [],
   "source": [
    "calc_2d = RDKitDescriptors2D()\n",
    "calc_3d = RDKitDescriptors3D()\n",
    "trans_2D = MoleculeTransformer(calc_2d, verbose = True)\n",
    "trans_3D = MoleculeTransformer(calc_3d, verbose = True)"
   ]
  },
  {
   "cell_type": "code",
   "execution_count": 19,
   "id": "3714f4c1-53e8-4700-bdd8-35eeecde9ec0",
   "metadata": {},
   "outputs": [
    {
     "name": "stderr",
     "output_type": "stream",
     "text": [
      "C:\\Users\\Timur\\anaconda3\\envs\\Cheminformatics_env\\Lib\\site-packages\\tqdm\\auto.py:21: TqdmWarning: IProgress not found. Please update jupyter and ipywidgets. See https://ipywidgets.readthedocs.io/en/stable/user_install.html\n",
      "  from .autonotebook import tqdm as notebook_tqdm\n"
     ]
    }
   ],
   "source": [
    "with dm.without_rdkit_log():\n",
    "    feats_2D = trans_2D(Data.mol.values)\n",
    "    feats_3D = trans_3D(Data.mol.values)"
   ]
  },
  {
   "cell_type": "markdown",
   "id": "a18eb208-f8c5-4909-b33e-90ed049e9cc4",
   "metadata": {},
   "source": [
    "**Standard descriptors set will contain Morgan fingerprints and RDKit descriptors (2D and 3D)**"
   ]
  },
  {
   "cell_type": "code",
   "execution_count": 52,
   "id": "02c26c34-baf5-44e1-a537-8a992ec46cb4",
   "metadata": {},
   "outputs": [],
   "source": [
    "_descriptors = pd.DataFrame(np.concatenate([feats_2D, feats_3D], axis  = 1), columns=calc_2d.columns + calc_3d.columns)\n",
    "X_standard = pd.concat([X, _descriptors], axis = 1)\n",
    "X_standard = X_standard.dropna(axis =1, how = 'all')\n",
    "X_standard.drop(columns='Alerts', inplace = True)"
   ]
  },
  {
   "cell_type": "markdown",
   "id": "ea940664-0e5e-4d6c-9199-e6af0acae063",
   "metadata": {},
   "source": [
    "**Padel descriptors**"
   ]
  },
  {
   "cell_type": "code",
   "execution_count": 106,
   "id": "7bb530df-1d34-4412-a086-e49b21497811",
   "metadata": {},
   "outputs": [],
   "source": [
    "compounds_smi = Data.SMILES.unique()"
   ]
  },
  {
   "cell_type": "code",
   "execution_count": 109,
   "id": "74012ce1-dd58-49d9-a40a-49bf08cd84f2",
   "metadata": {},
   "outputs": [],
   "source": [
    "calc_padel = MoleculeTransformer(featurizer=PadelDescriptors())"
   ]
  },
  {
   "cell_type": "code",
   "execution_count": 115,
   "id": "71ba3cf3-6bbe-4613-9568-62564d17ef5f",
   "metadata": {},
   "outputs": [
    {
     "name": "stderr",
     "output_type": "stream",
     "text": [
      "100%|████████████████████████████████████████████████████████████████████████████████| 119/119 [05:59<00:00,  3.02s/it]\n"
     ]
    }
   ],
   "source": [
    "padel_dict = {}\n",
    "for smi in tqdm(compounds_smi):\n",
    "    padel_dict[smi]= calc_padel(smi)"
   ]
  },
  {
   "cell_type": "code",
   "execution_count": 150,
   "id": "06734e0e-38f7-4265-9047-cdb008f2c8ab",
   "metadata": {},
   "outputs": [],
   "source": [
    "X_padel['padel'] = pd.Series([padel_dict[smi].flatten() for smi in X_padel.SMILES.values])"
   ]
  },
  {
   "cell_type": "code",
   "execution_count": 159,
   "id": "1cdb8fec-f0f6-4d62-a636-3c81da20c377",
   "metadata": {},
   "outputs": [],
   "source": [
    "_descriptors_padel = pd.DataFrame(np.stack(X_padel['padel'].to_numpy()), columns=PadelDescriptors().columns)"
   ]
  },
  {
   "cell_type": "code",
   "execution_count": 164,
   "id": "73d1fdd1-75cc-46df-9357-b202e6fd5c8b",
   "metadata": {},
   "outputs": [],
   "source": [
    "X_padel = pd.concat([X_padel.drop(columns = ['padel', 'Trivial name', 'SMILES', 'Is gel', 'Zero-shear viscosity', 'mol']), _descriptors_padel], axis = 1)"
   ]
  },
  {
   "cell_type": "markdown",
   "id": "eaf73ea8-3af4-40a1-872f-1e0e2f4c8ee4",
   "metadata": {},
   "source": [
    "**Start here**"
   ]
  },
  {
   "cell_type": "code",
   "execution_count": 15,
   "id": "ea39d9a7-0ecf-4005-bd78-bd30ed49deba",
   "metadata": {},
   "outputs": [],
   "source": [
    "columns = X_padel.columns"
   ]
  },
  {
   "cell_type": "code",
   "execution_count": 16,
   "id": "1f058e03-c4ba-40e2-90fb-5e88ca348462",
   "metadata": {},
   "outputs": [],
   "source": [
    "imputer = KNNImputer()\n",
    "X_padel = imputer.fit_transform(X_padel)\n",
    "X_padel = pd.DataFrame(X_padel, columns=columns)"
   ]
  },
  {
   "cell_type": "raw",
   "id": "5a3f4568-aea3-4ec8-a9ce-35f7559527f1",
   "metadata": {},
   "source": [
    "with open('X_standard.pickle', 'wb') as output:\n",
    "    pickle.dump(X_standard, output)"
   ]
  },
  {
   "cell_type": "raw",
   "id": "d1022331-e747-4519-aabf-02ef4164f57d",
   "metadata": {},
   "source": [
    "with open('X_padel.pickle', 'wb') as output:\n",
    "    pickle.dump(X_padel, output)"
   ]
  },
  {
   "cell_type": "code",
   "execution_count": 23,
   "id": "06575d3d-46d5-4274-9762-eff2c7e164f3",
   "metadata": {},
   "outputs": [],
   "source": [
    "with open('X_padel.pickle', 'rb') as input:\n",
    "    X_padel = pickle.load(input)"
   ]
  },
  {
   "cell_type": "code",
   "execution_count": 24,
   "id": "ecc78541-0242-4805-9b6a-f11ded93e153",
   "metadata": {},
   "outputs": [],
   "source": [
    "with open('X_standard.pickle', 'rb') as input:\n",
    "    X_standard = pickle.load(input)"
   ]
  },
  {
   "cell_type": "code",
   "execution_count": 54,
   "id": "dd32cab7-733e-4804-afd4-d984c33ce982",
   "metadata": {},
   "outputs": [],
   "source": [
    "dropper = DropCorrelatedFeatures(threshold=0.8)\n",
    "X_standard_dropped = dropper.fit_transform(X_standard)"
   ]
  },
  {
   "cell_type": "code",
   "execution_count": 40,
   "id": "361ecbcb-8e75-48e6-b1a6-ef04ba35fbf5",
   "metadata": {},
   "outputs": [],
   "source": [
    "padel_dropped = DropCorrelatedFeatures(threshold=0.8)\n",
    "X_padel_dropped = dropper.fit_transform(X_padel)"
   ]
  },
  {
   "cell_type": "code",
   "execution_count": 41,
   "id": "5158b2e9-1c29-4dfe-a9cd-8b28ebcb3794",
   "metadata": {},
   "outputs": [],
   "source": [
    "with open('X_standard_dropped.pickle', 'wb') as output:\n",
    "    pickle.dump(X_standard_dropped, output)"
   ]
  },
  {
   "cell_type": "code",
   "execution_count": 43,
   "id": "5e8e742f-2f99-4ce1-80fd-69cdca889b0f",
   "metadata": {},
   "outputs": [],
   "source": [
    "with open('X_padel_dropped.pickle', 'wb') as output:\n",
    "    pickle.dump(X_padel_dropped, output)"
   ]
  },
  {
   "cell_type": "code",
   "execution_count": 42,
   "id": "74604abe-fc14-4867-8ff5-a97061158cb1",
   "metadata": {},
   "outputs": [],
   "source": [
    "with open('features_to_drop.pickle', 'wb') as output:\n",
    "    pickle.dump(dropper.features_to_drop_, output)"
   ]
  },
  {
   "cell_type": "markdown",
   "id": "83cb4c33-852d-44aa-8cde-9da88c32cfc4",
   "metadata": {},
   "source": [
    "**PCA decomposition**"
   ]
  },
  {
   "cell_type": "code",
   "execution_count": 60,
   "id": "4468f374-99f8-4eba-9474-9ea7bce28690",
   "metadata": {},
   "outputs": [],
   "source": [
    "pca = PCA(n_components=  605)\n",
    "X_standard_pca = pca.fit_transform(X_standard)"
   ]
  },
  {
   "cell_type": "code",
   "execution_count": 61,
   "id": "ec9adcc9-8160-4c09-a9f2-662750951248",
   "metadata": {},
   "outputs": [],
   "source": [
    "pca = PCA(n_components=  605)\n",
    "X_padel_pca = pca.fit_transform(X_padel)"
   ]
  },
  {
   "cell_type": "code",
   "execution_count": 64,
   "id": "8d8f0b62-15f5-4378-9eab-825414c9ff9c",
   "metadata": {},
   "outputs": [],
   "source": [
    "X_padel_pca = pd.DataFrame(X_padel_pca, columns = ['PCA {}'.format(i) for i in range(X_padel_pca.shape[1])])"
   ]
  },
  {
   "cell_type": "code",
   "execution_count": 66,
   "id": "272536d3-e21d-47a3-86ee-d918a9cbc88f",
   "metadata": {},
   "outputs": [],
   "source": [
    "X_standard_pca = pd.DataFrame(X_standard_pca, columns = ['PCA {}'.format(i) for i in range(X_standard_pca.shape[1])])"
   ]
  },
  {
   "cell_type": "code",
   "execution_count": 68,
   "id": "a9e1697b-7f13-4906-9131-789545031fc3",
   "metadata": {},
   "outputs": [],
   "source": [
    "with open('X_standard_pca.pickle', 'wb') as output:\n",
    "    pickle.dump(X_standard_pca, output)"
   ]
  },
  {
   "cell_type": "code",
   "execution_count": 69,
   "id": "5acd66c1-4b55-43ce-9a29-f425b4db3df7",
   "metadata": {},
   "outputs": [],
   "source": [
    "with open('X_padel_pca.pickle', 'wb') as output:\n",
    "    pickle.dump(X_padel_pca, output)"
   ]
  },
  {
   "cell_type": "code",
   "execution_count": 3,
   "id": "03d588a6-c076-4720-b404-c4f3eb5db2d3",
   "metadata": {},
   "outputs": [],
   "source": [
    "y = Data['Is gel']"
   ]
  },
  {
   "cell_type": "code",
   "execution_count": 6,
   "id": "c1b487d7-7fa4-4750-9025-98f96516ad0e",
   "metadata": {},
   "outputs": [],
   "source": [
    "with open('y.pickle', 'wb') as output:\n",
    "    pickle.dump(y, output)\n"
   ]
  },
  {
   "cell_type": "markdown",
   "id": "74825c87-c956-47c7-9157-afa988e24525",
   "metadata": {},
   "source": [
    "**Grouping with SMILES for better cross-validation**"
   ]
  },
  {
   "cell_type": "code",
   "execution_count": 16,
   "id": "97570b22-f2e8-43c6-bf9f-7ed8e6161a8e",
   "metadata": {},
   "outputs": [],
   "source": [
    "groups_dict = {smi: i for i, smi in enumerate(Data['SMILES'].unique())}"
   ]
  },
  {
   "cell_type": "code",
   "execution_count": 18,
   "id": "42742c1d-e6c5-4946-8ef2-0a8a6af7e91f",
   "metadata": {},
   "outputs": [],
   "source": [
    "Data['group'] = pd.Series([groups_dict[smi] for smi in Data['SMILES'].values])"
   ]
  },
  {
   "cell_type": "code",
   "execution_count": 20,
   "id": "978903ea-0e7e-4f4f-b523-76cec438185d",
   "metadata": {},
   "outputs": [],
   "source": [
    "with open('groups.pickle', 'wb') as output:\n",
    "    pickle.dump(Data['group'].values, output)"
   ]
  },
  {
   "cell_type": "code",
   "execution_count": 65,
   "id": "a49b4177-c665-42c7-9689-76ed93b69f19",
   "metadata": {},
   "outputs": [],
   "source": [
    "viscosity = Data['Zero-shear viscosity']"
   ]
  },
  {
   "cell_type": "code",
   "execution_count": 66,
   "id": "956518d6-26a3-45bc-bdd0-bc2c5935e7bb",
   "metadata": {},
   "outputs": [],
   "source": [
    "with open('viscosity.pickle', 'wb') as output:\n",
    "    pickle.dump(viscosity, output)"
   ]
  }
 ],
 "metadata": {
  "kernelspec": {
   "display_name": "Python 3 (ipykernel)",
   "language": "python",
   "name": "python3"
  },
  "language_info": {
   "codemirror_mode": {
    "name": "ipython",
    "version": 3
   },
   "file_extension": ".py",
   "mimetype": "text/x-python",
   "name": "python",
   "nbconvert_exporter": "python",
   "pygments_lexer": "ipython3",
   "version": "3.11.9"
  }
 },
 "nbformat": 4,
 "nbformat_minor": 5
}
